{
 "cells": [
  {
   "cell_type": "code",
   "execution_count": 2,
   "metadata": {},
   "outputs": [],
   "source": [
    "import sys\n",
    "sys.path.append('/usr/local/lib/python3.5/site-packages')\n",
    "import numpy as np\n",
    "import matplotlib.pyplot as plt\n",
    "import pandas as pd\n",
    "import scipy\n",
    "import os"
   ]
  },
  {
   "cell_type": "code",
   "execution_count": 3,
   "metadata": {},
   "outputs": [],
   "source": [
    "def correlacion(ls,k): #La funcion calcula la correlacion entre los valores de ls a pasos k\n",
    "    valores=[]\n",
    "    for i,v in enumerate(ls[:-k]):\n",
    "        valores.append((v*ls[i+k]));\n",
    "    mean_ik= sum(valores)/len(ls[:-k])\n",
    "    mean_i2=(np.mean(ls))**2\n",
    "    disp=np.std(ls)\n",
    "    \n",
    "    res=(mean_ik - mean_i2 )/(disp**2)\n",
    "    return res"
   ]
  },
  {
   "cell_type": "code",
   "execution_count": 4,
   "metadata": {},
   "outputs": [],
   "source": [
    "# Leemos el archivo\n",
    "myFolder = (os.getcwd()) # busca en el directorio actual\n",
    "\n",
    "with open (myFolder+'/Tira_it=10000.txt', 'r') as myfile:  \n",
    "        deltas = [];\n",
    "        aceptacion=[]\n",
    "        tira=[]\n",
    "        for myline in myfile: # For each line, stored as myline,\n",
    "            datos = [float(i) for i in myline.split(' ') if i.strip()];\n",
    "            tira.append(datos[1:-1])\n",
    "            aceptacion.append(datos[-1])\n",
    "            deltas.append(datos[0])"
   ]
  },
  {
   "cell_type": "code",
   "execution_count": 42,
   "metadata": {
    "scrolled": true
   },
   "outputs": [
    {
     "data": {
      "image/png": "[encoded data removed]",
      "text/plain": [
       "<Figure size 432x288 with 1 Axes>"
      ]
     },
     "metadata": {},
     "output_type": "display_data"
    }
   ],
   "source": [
    "#Busco las probabilidades cercanas a pa=0.5 asi grafico solo esos valores\n",
    "prob_a=[]\n",
    "mean_correl=[]\n",
    "ls_correl=[]  \n",
    "kaes=[]\n",
    "\n",
    "for i in range(0,len(aceptacion)):\n",
    "        pa=aceptacion[i]/len(tira[i])\n",
    "        if abs(pa-0.5)<0.01: #seleccionamos\n",
    "            prob_a.append([i,pa])\n",
    "            \n",
    "for i in prob_a[:-1]:\n",
    "    correl_k=[] \n",
    "    for k in range(1,30):\n",
    "        correl_k.append(correlacion(tira[i[0]],k))\n",
    "    ls_correl.append(correl_k)\n",
    "\n",
    "\n",
    "for k in range(0,29):\n",
    "    suma=0;\n",
    "    kaes.append(k+1)\n",
    "    for i in range(0,len(ls_correl)):\n",
    "        suma=suma+ls_correl[i][k];\n",
    "         \n",
    "    prom=suma/len(prob_a[:-1]);    \n",
    "    mean_correl.append(prom)\n",
    "        \n",
    "plt.scatter(kaes,mean_correl)\n",
    "plt.show()"
   ]
  },
  {
   "cell_type": "code",
   "execution_count": 45,
   "metadata": {},
   "outputs": [
    {
     "name": "stdout",
     "output_type": "stream",
     "text": [
      "K es = 5\n"
     ]
    }
   ],
   "source": [
    "#Busco el k que me descorrelaciona mis valores, mi criterio es que ck < 0.1\n",
    "for i in range(0,len(mean_correl)):\n",
    "    if (mean_correl[i]<0.1):\n",
    "        K=i+1;\n",
    "        break\n",
    "print('K es =', K)"
   ]
  },
  {
   "cell_type": "code",
   "execution_count": 65,
   "metadata": {},
   "outputs": [
    {
     "data": {
      "image/png": "[encoded data removed]",
      "text/plain": [
       "<Figure size 432x288 with 1 Axes>"
      ]
     },
     "metadata": {},
     "output_type": "display_data"
    }
   ],
   "source": [
    "#O sea, para k=5 los datos estan descorrelacionados, entonces tengo que agarrar mis datos cada 5 pasos\n",
    "#y calcular x^2 para cada tira\n",
    "I_totales=[]\n",
    "for j in prob_a[2:-5]:\n",
    "    I_d=0\n",
    "    equis_d=[]\n",
    "    for i in range(0,len(tira[j[0]][:-5])):\n",
    "        equis_d.append((tira[j[0]][i+5])**2-(tira[j[0]][i])**2)\n",
    "        \n",
    "    I_d=sum(equis_d)\n",
    "    plt.scatter(j[0],I_d)\n",
    "    I_totales.append(I_d)\n",
    "\n",
    "plt.axhline(2.5, linestyle='--',linewidth=2)\n",
    "plt.show()"
   ]
  },
  {
   "cell_type": "code",
   "execution_count": 66,
   "metadata": {},
   "outputs": [
    {
     "data": {
      "text/html": [
       "<div>\n",
       "<style scoped>\n",
       "    .dataframe tbody tr th:only-of-type {\n",
       "        vertical-align: middle;\n",
       "    }\n",
       "\n",
       "    .dataframe tbody tr th {\n",
       "        vertical-align: top;\n",
       "    }\n",
       "\n",
       "    .dataframe thead th {\n",
       "        text-align: right;\n",
       "    }\n",
       "</style>\n",
       "<table border=\"1\" class=\"dataframe\">\n",
       "  <thead>\n",
       "    <tr style=\"text-align: right;\">\n",
       "      <th></th>\n",
       "      <th>Delta</th>\n",
       "      <th>I</th>\n",
       "    </tr>\n",
       "  </thead>\n",
       "  <tbody>\n",
       "    <tr>\n",
       "      <th>0</th>\n",
       "      <td>2.879998</td>\n",
       "      <td>5.641654</td>\n",
       "    </tr>\n",
       "    <tr>\n",
       "      <th>1</th>\n",
       "      <td>2.889998</td>\n",
       "      <td>2.078384</td>\n",
       "    </tr>\n",
       "    <tr>\n",
       "      <th>2</th>\n",
       "      <td>2.909998</td>\n",
       "      <td>-0.040302</td>\n",
       "    </tr>\n",
       "    <tr>\n",
       "      <th>3</th>\n",
       "      <td>2.919998</td>\n",
       "      <td>7.185357</td>\n",
       "    </tr>\n",
       "    <tr>\n",
       "      <th>4</th>\n",
       "      <td>2.929998</td>\n",
       "      <td>-1.866678</td>\n",
       "    </tr>\n",
       "    <tr>\n",
       "      <th>5</th>\n",
       "      <td>2.939998</td>\n",
       "      <td>-2.117541</td>\n",
       "    </tr>\n",
       "    <tr>\n",
       "      <th>6</th>\n",
       "      <td>2.949998</td>\n",
       "      <td>2.845137</td>\n",
       "    </tr>\n",
       "    <tr>\n",
       "      <th>7</th>\n",
       "      <td>2.959998</td>\n",
       "      <td>-1.147041</td>\n",
       "    </tr>\n",
       "  </tbody>\n",
       "</table>\n",
       "</div>"
      ],
      "text/plain": [
       "      Delta         I\n",
       "0  2.879998  5.641654\n",
       "1  2.889998  2.078384\n",
       "2  2.909998 -0.040302\n",
       "3  2.919998  7.185357\n",
       "4  2.929998 -1.866678\n",
       "5  2.939998 -2.117541\n",
       "6  2.949998  2.845137\n",
       "7  2.959998 -1.147041"
      ]
     },
     "execution_count": 66,
     "metadata": {},
     "output_type": "execute_result"
    }
   ],
   "source": [
    "D=[]\n",
    "for i in prob_a[2:-5]:\n",
    "    D.append(deltas[i[0]])\n",
    "\n",
    "data = pd.DataFrame({\"Delta\":D,\n",
    "                     \"I\":I_totales,\n",
    "                    })#empty dataframe\n",
    "data"
   ]
  },
  {
   "cell_type": "code",
   "execution_count": null,
   "metadata": {},
   "outputs": [],
   "source": []
  },
  {
   "cell_type": "code",
   "execution_count": null,
   "metadata": {},
   "outputs": [],
   "source": []
  },
  {
   "cell_type": "code",
   "execution_count": null,
   "metadata": {},
   "outputs": [],
   "source": []
  }
 ],
 "metadata": {
  "kernelspec": {
   "display_name": "Python 3",
   "language": "python",
   "name": "python3"
  },
  "language_info": {
   "codemirror_mode": {
    "name": "ipython",
    "version": 3
   },
   "file_extension": ".py",
   "mimetype": "text/x-python",
   "name": "python",
   "nbconvert_exporter": "python",
   "pygments_lexer": "ipython3",
   "version": "3.6.5"
  }
 },
 "nbformat": 4,
 "nbformat_minor": 2
}
